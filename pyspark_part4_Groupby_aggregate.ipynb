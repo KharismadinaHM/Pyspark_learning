{
 "cells": [
  {
   "cell_type": "code",
   "execution_count": 1,
   "metadata": {},
   "outputs": [],
   "source": [
    "from pyspark.sql import SparkSession"
   ]
  },
  {
   "cell_type": "code",
   "execution_count": 2,
   "metadata": {},
   "outputs": [],
   "source": [
    "spark=SparkSession.builder.appName('Agg').getOrCreate()"
   ]
  },
  {
   "cell_type": "code",
   "execution_count": 3,
   "metadata": {},
   "outputs": [
    {
     "data": {
      "text/html": [
       "\n",
       "            <div>\n",
       "                <p><b>SparkSession - in-memory</b></p>\n",
       "                \n",
       "        <div>\n",
       "            <p><b>SparkContext</b></p>\n",
       "\n",
       "            <p><a href=\"http://DESKTOP-JDD6O2E:4040\">Spark UI</a></p>\n",
       "\n",
       "            <dl>\n",
       "              <dt>Version</dt>\n",
       "                <dd><code>v3.0.3</code></dd>\n",
       "              <dt>Master</dt>\n",
       "                <dd><code>local[*]</code></dd>\n",
       "              <dt>AppName</dt>\n",
       "                <dd><code>Agg</code></dd>\n",
       "            </dl>\n",
       "        </div>\n",
       "        \n",
       "            </div>\n",
       "        "
      ],
      "text/plain": [
       "<pyspark.sql.session.SparkSession at 0x22f2b44e250>"
      ]
     },
     "execution_count": 3,
     "metadata": {},
     "output_type": "execute_result"
    }
   ],
   "source": [
    "spark"
   ]
  },
  {
   "cell_type": "code",
   "execution_count": 5,
   "metadata": {},
   "outputs": [],
   "source": [
    "data = spark.read.csv('test3.csv',header=True,inferSchema=True)"
   ]
  },
  {
   "cell_type": "code",
   "execution_count": 6,
   "metadata": {},
   "outputs": [
    {
     "name": "stdout",
     "output_type": "stream",
     "text": [
      "+------+--------------------+------+\n",
      "|  Name|         Departments|salary|\n",
      "+------+--------------------+------+\n",
      "|  Andi|       Data Engineer| 10000|\n",
      "| Billy|                 IOT|  5000|\n",
      "|Charly|    Big Data Analyst|  4000|\n",
      "|Denise|Blockchain Developer|  4000|\n",
      "|  Eden|       Data Engineer|  3000|\n",
      "|  Fajr|        Data Science| 20000|\n",
      "|   Gen|                 IOT| 10000|\n",
      "|Hailey|            Big Data|  5000|\n",
      "|  Indi|       Data Engineer| 10000|\n",
      "|   Joy|    Big Data Analyst|  2000|\n",
      "+------+--------------------+------+\n",
      "\n"
     ]
    }
   ],
   "source": [
    "data.show()"
   ]
  },
  {
   "cell_type": "code",
   "execution_count": 7,
   "metadata": {},
   "outputs": [
    {
     "name": "stdout",
     "output_type": "stream",
     "text": [
      "root\n",
      " |-- Name: string (nullable = true)\n",
      " |-- Departments: string (nullable = true)\n",
      " |-- salary: integer (nullable = true)\n",
      "\n"
     ]
    }
   ],
   "source": [
    "data.printSchema()"
   ]
  },
  {
   "cell_type": "code",
   "execution_count": 8,
   "metadata": {},
   "outputs": [
    {
     "name": "stdout",
     "output_type": "stream",
     "text": [
      "+------+-----------+\n",
      "|  Name|sum(salary)|\n",
      "+------+-----------+\n",
      "|Denise|       4000|\n",
      "|  Indi|      10000|\n",
      "|  Eden|       3000|\n",
      "|  Andi|      10000|\n",
      "| Billy|       5000|\n",
      "|   Gen|      10000|\n",
      "|Charly|       4000|\n",
      "|Hailey|       5000|\n",
      "|   Joy|       2000|\n",
      "|  Fajr|      20000|\n",
      "+------+-----------+\n",
      "\n"
     ]
    }
   ],
   "source": [
    "##GroupBy \n",
    "### Mengelompokan berdasarkan nama\n",
    "data.groupBy('Name').sum().show()"
   ]
  },
  {
   "cell_type": "code",
   "execution_count": 9,
   "metadata": {},
   "outputs": [
    {
     "name": "stdout",
     "output_type": "stream",
     "text": [
      "+------+-----------+\n",
      "|  Name|avg(salary)|\n",
      "+------+-----------+\n",
      "|Denise|     4000.0|\n",
      "|  Indi|    10000.0|\n",
      "|  Eden|     3000.0|\n",
      "|  Andi|    10000.0|\n",
      "| Billy|     5000.0|\n",
      "|   Gen|    10000.0|\n",
      "|Charly|     4000.0|\n",
      "|Hailey|     5000.0|\n",
      "|   Joy|     2000.0|\n",
      "|  Fajr|    20000.0|\n",
      "+------+-----------+\n",
      "\n"
     ]
    }
   ],
   "source": [
    "data.groupBy('Name').avg().show()"
   ]
  },
  {
   "cell_type": "code",
   "execution_count": 10,
   "metadata": {},
   "outputs": [
    {
     "name": "stdout",
     "output_type": "stream",
     "text": [
      "+--------------------+-----------------+\n",
      "|         Departments|      avg(salary)|\n",
      "+--------------------+-----------------+\n",
      "|                 IOT|           7500.0|\n",
      "|Blockchain Developer|           4000.0|\n",
      "|            Big Data|           5000.0|\n",
      "|    Big Data Analyst|           3000.0|\n",
      "|        Data Science|          20000.0|\n",
      "|       Data Engineer|7666.666666666667|\n",
      "+--------------------+-----------------+\n",
      "\n"
     ]
    }
   ],
   "source": [
    "data.groupBy('Departments').mean().show()"
   ]
  },
  {
   "cell_type": "code",
   "execution_count": 11,
   "metadata": {},
   "outputs": [
    {
     "name": "stdout",
     "output_type": "stream",
     "text": [
      "+------+-----+\n",
      "|  Name|count|\n",
      "+------+-----+\n",
      "|Denise|    1|\n",
      "|  Indi|    1|\n",
      "|  Eden|    1|\n",
      "|  Andi|    1|\n",
      "| Billy|    1|\n",
      "|   Gen|    1|\n",
      "|Charly|    1|\n",
      "|Hailey|    1|\n",
      "|   Joy|    1|\n",
      "|  Fajr|    1|\n",
      "+------+-----+\n",
      "\n"
     ]
    }
   ],
   "source": [
    "data.groupBy('Name').count().show()"
   ]
  },
  {
   "cell_type": "code",
   "execution_count": null,
   "metadata": {},
   "outputs": [],
   "source": [
    "data.agg()"
   ]
  },
  {
   "cell_type": "code",
   "execution_count": null,
   "metadata": {},
   "outputs": [],
   "source": []
  }
 ],
 "metadata": {
  "kernelspec": {
   "display_name": "Python 3",
   "language": "python",
   "name": "python3"
  },
  "language_info": {
   "codemirror_mode": {
    "name": "ipython",
    "version": 3
   },
   "file_extension": ".py",
   "mimetype": "text/x-python",
   "name": "python",
   "nbconvert_exporter": "python",
   "pygments_lexer": "ipython3",
   "version": "3.8.5"
  }
 },
 "nbformat": 4,
 "nbformat_minor": 4
}
