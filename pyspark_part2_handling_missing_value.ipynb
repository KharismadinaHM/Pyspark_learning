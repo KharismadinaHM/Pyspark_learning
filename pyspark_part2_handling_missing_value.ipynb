{
 "cells": [
  {
   "cell_type": "code",
   "execution_count": 1,
   "metadata": {},
   "outputs": [],
   "source": [
    "from pyspark.sql import SparkSession\n",
    "spark=SparkSession.builder.appName('Latihan2').getOrCreate()"
   ]
  },
  {
   "cell_type": "code",
   "execution_count": 17,
   "metadata": {},
   "outputs": [],
   "source": [
    "data=spark.read.csv('contoh2.csv',header=True,inferSchema=True)"
   ]
  },
  {
   "cell_type": "code",
   "execution_count": 18,
   "metadata": {},
   "outputs": [
    {
     "name": "stdout",
     "output_type": "stream",
     "text": [
      "root\n",
      " |-- nama: string (nullable = true)\n",
      " |-- gaji: double (nullable = true)\n",
      " |-- tunjangan: double (nullable = true)\n",
      " |-- tanggungan: double (nullable = true)\n",
      "\n"
     ]
    }
   ],
   "source": [
    "data.printSchema()"
   ]
  },
  {
   "cell_type": "code",
   "execution_count": 19,
   "metadata": {},
   "outputs": [
    {
     "name": "stdout",
     "output_type": "stream",
     "text": [
      "+-------+------+---------+----------+\n",
      "|   nama|  gaji|tunjangan|tanggungan|\n",
      "+-------+------+---------+----------+\n",
      "|   andi|1000.0|    500.0|       4.0|\n",
      "|   bary|2000.0|    600.0|       3.0|\n",
      "|chelsea|1500.0|    400.0|       2.0|\n",
      "|   dany| 800.0|    200.0|      null|\n",
      "|   null|  null|   1000.0|      null|\n",
      "|    edy|1200.0|     null|      null|\n",
      "|  fajri|1000.0|    100.0|       3.0|\n",
      "+-------+------+---------+----------+\n",
      "\n"
     ]
    }
   ],
   "source": [
    "data.show()"
   ]
  },
  {
   "cell_type": "code",
   "execution_count": 20,
   "metadata": {},
   "outputs": [
    {
     "name": "stdout",
     "output_type": "stream",
     "text": [
      "+-------+------+----------+\n",
      "|   nama|  gaji|tanggungan|\n",
      "+-------+------+----------+\n",
      "|   andi|1000.0|       4.0|\n",
      "|   bary|2000.0|       3.0|\n",
      "|chelsea|1500.0|       2.0|\n",
      "|   dany| 800.0|      null|\n",
      "|   null|  null|      null|\n",
      "|    edy|1200.0|      null|\n",
      "|  fajri|1000.0|       3.0|\n",
      "+-------+------+----------+\n",
      "\n"
     ]
    }
   ],
   "source": [
    "##Hapus kolom\n",
    "data.drop('tunjangan').show()"
   ]
  },
  {
   "cell_type": "code",
   "execution_count": 21,
   "metadata": {},
   "outputs": [
    {
     "name": "stdout",
     "output_type": "stream",
     "text": [
      "+-------+------+---------+----------+\n",
      "|   nama|  gaji|tunjangan|tanggungan|\n",
      "+-------+------+---------+----------+\n",
      "|   andi|1000.0|    500.0|       4.0|\n",
      "|   bary|2000.0|    600.0|       3.0|\n",
      "|chelsea|1500.0|    400.0|       2.0|\n",
      "|  fajri|1000.0|    100.0|       3.0|\n",
      "+-------+------+---------+----------+\n",
      "\n"
     ]
    }
   ],
   "source": [
    "##hapus null value\n",
    "nonNull = data.na.drop()\n",
    "nonNull.show()"
   ]
  },
  {
   "cell_type": "code",
   "execution_count": 22,
   "metadata": {},
   "outputs": [
    {
     "name": "stdout",
     "output_type": "stream",
     "text": [
      "+-------+------+---------+----------+\n",
      "|   nama|  gaji|tunjangan|tanggungan|\n",
      "+-------+------+---------+----------+\n",
      "|   andi|1000.0|    500.0|       4.0|\n",
      "|   bary|2000.0|    600.0|       3.0|\n",
      "|chelsea|1500.0|    400.0|       2.0|\n",
      "|  fajri|1000.0|    100.0|       3.0|\n",
      "+-------+------+---------+----------+\n",
      "\n"
     ]
    }
   ],
   "source": [
    "##how==any\n",
    "data.na.drop(how=\"any\").show()"
   ]
  },
  {
   "cell_type": "code",
   "execution_count": 23,
   "metadata": {},
   "outputs": [
    {
     "name": "stdout",
     "output_type": "stream",
     "text": [
      "+-------+------+---------+----------+\n",
      "|   nama|  gaji|tunjangan|tanggungan|\n",
      "+-------+------+---------+----------+\n",
      "|   andi|1000.0|    500.0|       4.0|\n",
      "|   bary|2000.0|    600.0|       3.0|\n",
      "|chelsea|1500.0|    400.0|       2.0|\n",
      "|   dany| 800.0|    200.0|      null|\n",
      "|    edy|1200.0|     null|      null|\n",
      "|  fajri|1000.0|    100.0|       3.0|\n",
      "+-------+------+---------+----------+\n",
      "\n"
     ]
    }
   ],
   "source": [
    "##threshold / minimal \n",
    "data.na.drop(how=\"any\",thresh=2).show()"
   ]
  },
  {
   "cell_type": "code",
   "execution_count": 24,
   "metadata": {},
   "outputs": [
    {
     "name": "stdout",
     "output_type": "stream",
     "text": [
      "+-------+------+---------+----------+\n",
      "|   nama|  gaji|tunjangan|tanggungan|\n",
      "+-------+------+---------+----------+\n",
      "|   andi|1000.0|    500.0|       4.0|\n",
      "|   bary|2000.0|    600.0|       3.0|\n",
      "|chelsea|1500.0|    400.0|       2.0|\n",
      "|  fajri|1000.0|    100.0|       3.0|\n",
      "+-------+------+---------+----------+\n",
      "\n"
     ]
    }
   ],
   "source": [
    "##Subset\n",
    "data.na.drop(how=\"any\",subset=['tanggungan']).show()"
   ]
  },
  {
   "cell_type": "code",
   "execution_count": 33,
   "metadata": {},
   "outputs": [
    {
     "name": "stdout",
     "output_type": "stream",
     "text": [
      "+-----------+------+---------+----------+\n",
      "|       nama|  gaji|tunjangan|tanggungan|\n",
      "+-----------+------+---------+----------+\n",
      "|       andi|1000.0|    500.0|       4.0|\n",
      "|       bary|2000.0|    600.0|       3.0|\n",
      "|    chelsea|1500.0|    400.0|       2.0|\n",
      "|       dany| 800.0|    200.0|      null|\n",
      "|data hilang|  null|   1000.0|      null|\n",
      "|        edy|1200.0|     null|      null|\n",
      "|      fajri|1000.0|    100.0|       3.0|\n",
      "+-----------+------+---------+----------+\n",
      "\n"
     ]
    }
   ],
   "source": [
    "### mengisi nilai null (kosong) filling the missing value\n",
    "data.na.fill('data hilang',['nama','gaji']).show()"
   ]
  },
  {
   "cell_type": "code",
   "execution_count": 34,
   "metadata": {},
   "outputs": [],
   "source": [
    "#Menambahkan imputer\n",
    "from pyspark.ml.feature import Imputer\n",
    "\n",
    "imputer = Imputer(\n",
    "    inputCols=['gaji','tunjangan','tanggungan'],\n",
    "    outputCols=[\"{}_imputed\".format(c) for c in ['gaji','tunjangan','tanggungan']]\n",
    "    ).setStrategy(\"median\")"
   ]
  },
  {
   "cell_type": "code",
   "execution_count": 35,
   "metadata": {},
   "outputs": [
    {
     "name": "stdout",
     "output_type": "stream",
     "text": [
      "+-------+------+---------+----------+------------+-----------------+------------------+\n",
      "|   nama|  gaji|tunjangan|tanggungan|gaji_imputed|tunjangan_imputed|tanggungan_imputed|\n",
      "+-------+------+---------+----------+------------+-----------------+------------------+\n",
      "|   andi|1000.0|    500.0|       4.0|      1000.0|            500.0|               4.0|\n",
      "|   bary|2000.0|    600.0|       3.0|      2000.0|            600.0|               3.0|\n",
      "|chelsea|1500.0|    400.0|       2.0|      1500.0|            400.0|               2.0|\n",
      "|   dany| 800.0|    200.0|      null|       800.0|            200.0|               3.0|\n",
      "|   null|  null|   1000.0|      null|      1000.0|           1000.0|               3.0|\n",
      "|    edy|1200.0|     null|      null|      1200.0|            400.0|               3.0|\n",
      "|  fajri|1000.0|    100.0|       3.0|      1000.0|            100.0|               3.0|\n",
      "+-------+------+---------+----------+------------+-----------------+------------------+\n",
      "\n"
     ]
    }
   ],
   "source": [
    "imputer.fit(data).transform(data).show()\n",
    "## jadi imputer itu mengisis nilai null dengan value median diantara nilai kolommnya,\n",
    "##nanti akan terbuat kolom baru untuk mengisi nilai null"
   ]
  }
 ],
 "metadata": {
  "kernelspec": {
   "display_name": "Python 3",
   "language": "python",
   "name": "python3"
  },
  "language_info": {
   "codemirror_mode": {
    "name": "ipython",
    "version": 3
   },
   "file_extension": ".py",
   "mimetype": "text/x-python",
   "name": "python",
   "nbconvert_exporter": "python",
   "pygments_lexer": "ipython3",
   "version": "3.8.5"
  }
 },
 "nbformat": 4,
 "nbformat_minor": 4
}
