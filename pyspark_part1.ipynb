{
 "cells": [
  {
   "cell_type": "code",
   "execution_count": 12,
   "metadata": {},
   "outputs": [
    {
     "name": "stdout",
     "output_type": "stream",
     "text": [
      "Requirement already satisfied: pyspark in c:\\programdata\\anaconda3\\lib\\site-packages (3.3.0)\n",
      "Requirement already satisfied: py4j==0.10.9.5 in c:\\programdata\\anaconda3\\lib\\site-packages (from pyspark) (0.10.9.5)\n"
     ]
    }
   ],
   "source": [
    "!pip install pyspark"
   ]
  },
  {
   "cell_type": "code",
   "execution_count": 1,
   "metadata": {},
   "outputs": [],
   "source": [
    "from pyspark.sql import SparkSession"
   ]
  },
  {
   "cell_type": "code",
   "execution_count": 14,
   "metadata": {},
   "outputs": [
    {
     "name": "stdout",
     "output_type": "stream",
     "text": [
      "Requirement already satisfied: findspark in c:\\programdata\\anaconda3\\lib\\site-packages (2.0.1)\n"
     ]
    }
   ],
   "source": [
    "!pip install findspark"
   ]
  },
  {
   "cell_type": "code",
   "execution_count": 2,
   "metadata": {},
   "outputs": [
    {
     "data": {
      "text/plain": [
       "'C:\\\\BigData\\\\spark'"
      ]
     },
     "execution_count": 2,
     "metadata": {},
     "output_type": "execute_result"
    }
   ],
   "source": [
    "import findspark\n",
    "findspark.find()"
   ]
  },
  {
   "cell_type": "code",
   "execution_count": 3,
   "metadata": {},
   "outputs": [],
   "source": [
    "findspark.init('C:\\\\BigData\\\\spark')"
   ]
  },
  {
   "cell_type": "code",
   "execution_count": 4,
   "metadata": {
    "scrolled": true
   },
   "outputs": [],
   "source": [
    "spark=SparkSession.builder.appName('coba1').getOrCreate()"
   ]
  },
  {
   "cell_type": "code",
   "execution_count": 5,
   "metadata": {},
   "outputs": [
    {
     "data": {
      "text/html": [
       "\n",
       "            <div>\n",
       "                <p><b>SparkSession - in-memory</b></p>\n",
       "                \n",
       "        <div>\n",
       "            <p><b>SparkContext</b></p>\n",
       "\n",
       "            <p><a href=\"http://DESKTOP-JDD6O2E:4041\">Spark UI</a></p>\n",
       "\n",
       "            <dl>\n",
       "              <dt>Version</dt>\n",
       "                <dd><code>v3.0.3</code></dd>\n",
       "              <dt>Master</dt>\n",
       "                <dd><code>local[*]</code></dd>\n",
       "              <dt>AppName</dt>\n",
       "                <dd><code>coba1</code></dd>\n",
       "            </dl>\n",
       "        </div>\n",
       "        \n",
       "            </div>\n",
       "        "
      ],
      "text/plain": [
       "<pyspark.sql.session.SparkSession at 0x216165ad7f0>"
      ]
     },
     "execution_count": 5,
     "metadata": {},
     "output_type": "execute_result"
    }
   ],
   "source": [
    "spark"
   ]
  },
  {
   "cell_type": "code",
   "execution_count": 14,
   "metadata": {},
   "outputs": [],
   "source": [
    "## membaca dataset\n",
    "df_pyspark=spark.read.option('header','true').csv('crypto22.csv',inferSchema=True)"
   ]
  },
  {
   "cell_type": "code",
   "execution_count": 15,
   "metadata": {},
   "outputs": [
    {
     "name": "stdout",
     "output_type": "stream",
     "text": [
      "root\n",
      " |-- Ranking: string (nullable = true)\n",
      " |-- Crypto Name: string (nullable = true)\n",
      " |-- Price: string (nullable = true)\n",
      " |-- Changes 24H : string (nullable = true)\n",
      " |-- Changes 7D : string (nullable = true)\n",
      " |-- Changes 30D : string (nullable = true)\n",
      " |-- Changes 1Y: string (nullable = true)\n",
      " |-- Market Cap: string (nullable = true)\n",
      " |-- Volume 24H: string (nullable = true)\n",
      " |-- Available Supply: string (nullable = true)\n",
      "\n"
     ]
    }
   ],
   "source": [
    "df_pyspark.printSchema()"
   ]
  },
  {
   "cell_type": "code",
   "execution_count": 17,
   "metadata": {},
   "outputs": [],
   "source": [
    "df_pyspark=spark.read.csv('crypto22.csv',header=True,inferSchema=True)"
   ]
  },
  {
   "cell_type": "code",
   "execution_count": 18,
   "metadata": {},
   "outputs": [
    {
     "name": "stdout",
     "output_type": "stream",
     "text": [
      "+-------+------------------+----------+------------+-----------+------------+----------+----------+----------+----------------+\n",
      "|Ranking|       Crypto Name|     Price|Changes 24H |Changes 7D |Changes 30D |Changes 1Y|Market Cap|Volume 24H|Available Supply|\n",
      "+-------+------------------+----------+------------+-----------+------------+----------+----------+----------+----------------+\n",
      "|      1|           BITCOIN|   $36,983|      -2.97%|      1.96%|     -20.08%|     8.25%| $701.49 B|  $13.01 B|     18.94 M BTC|\n",
      "|      2|   WRAPPED BITCOIN|   $37,019|      -2.84%|      1.84%|     -20.13%|     8.26%|  $10.04 B| $253.14 M|   271.16 K WBTC|\n",
      "|      3|        HUOBI BTC |   $36,942|      -4.24%|      1.37%|     -20.39%|     7.82%|   $1.47 B|  $29.51 M|    39.88 K HBTC|\n",
      "|      4|          ETHEREUM|    $2,510|      -3.64%|     -1.28%|     -32.04%|    82.54%| $298.87 B|  $10.00 B|    119.38 M ETH|\n",
      "|      5|LIDO STAKED ETHER |    $2,494|      -3.23%|     -1.84%|     -31.98%|    95.88%|   $4.48 B|   $2.07 M|    1.79 M STETH|\n",
      "|      6|            MAKER |$1,989.00 |       1.58%|      7.24%|     -15.86%|    24.94%|   $1.78 B|  $49.99 M|    901.31 K MKR|\n",
      "|      7|     BINANCE COIN |  $369.80 |      -3.80%|     -3.37%|     -27.62%|   730.32%|  $62.31 B|   $1.05 B|    168.14 M BNB|\n",
      "|      8|     BITCOIN CASH |  $280.70 |      -5.84%|     -6.89%|     -34.79%|   -31.87%|   $5.34 B|   $1.13 B|     18.97 M BCH|\n",
      "|      9|           KUSAMA |  $156.10 |      -8.71%|    -18.40%|     -43.80%|    54.92%|   $1.40 B|  $39.97 M|      8.98 M KSM|\n",
      "|     10|           MONERO |  $142.30 |      -7.48%|     -8.30%|     -37.46%|     3.07%|   $2.59 B|  $85.93 M|     18.07 M XMR|\n",
      "|     11|              AAVE|  $142.10 |      -7.08%|     -9.67%|     -44.01%|   -54.25%|   $1.93 B|  $92.85 M|    13.49 M AAVE|\n",
      "|     12|            ELROND|  $135.68 |      -8.85%|      1.32%|     -43.15%|   110.34%|   $2.78 B|  $96.17 M|    20.47 M EGLD|\n",
      "|     13|         LITECOIN |  $104.80 |      -5.42%|     -6.02%|     -28.25%|    20.90%|   $7.31 B| $474.05 M|     69.53 M LTC|\n",
      "|     14|           SOLANA |   $90.03 |      -6.35%|     -9.63%|     -47.06%|  2028.16%|  $28.43 B|  $975.64 |    315.10 M SOL|\n",
      "|     15|            QUANT |   $90.70 |      -8.20%|    -18.19%|     -50.04%|   189.81%|   $1.20 B|  $24.08 M|     13.41 M QNT|\n",
      "|     16|             DASH |   $89.40 |      -8.21%|    -10.15%|      33.44%|   -14.46%| $942.19 M| $102.53 M|    10.56 M DASH|\n",
      "|     17|             ZCASH|   $89.20 |      -7.95%|     -8.40%|     -39.11%|     6.10%|   $1.08 B| $108.34 M|     12.07 M ZEC|\n",
      "|     18|       BITCOIN SV |   $88.54 |      -3.92%|     -5.40%|     -26.97%|    50.37%|   $1.68 B|  $54.54 M|     18.97 M BSV|\n",
      "|     19|         AVALANCHE|   $64.98 |      -9.00%|      0.38%|     -40.72%|   443.28%|  $15.94 B| $542.89 M|   244.91 M AVAX|\n",
      "|     20|     AXIE INFINITY|   $50.78 |      -3.26%|     -6.54%|     -45.91%|  5924.29%|   $3.60 B| $713.82 M|     71.05 M AXS|\n",
      "+-------+------------------+----------+------------+-----------+------------+----------+----------+----------+----------------+\n",
      "only showing top 20 rows\n",
      "\n"
     ]
    }
   ],
   "source": [
    "df_pyspark.show()"
   ]
  },
  {
   "cell_type": "code",
   "execution_count": 19,
   "metadata": {},
   "outputs": [
    {
     "name": "stdout",
     "output_type": "stream",
     "text": [
      "+------------------+----------+\n",
      "|       Crypto name|     price|\n",
      "+------------------+----------+\n",
      "|           BITCOIN|   $36,983|\n",
      "|   WRAPPED BITCOIN|   $37,019|\n",
      "|        HUOBI BTC |   $36,942|\n",
      "|          ETHEREUM|    $2,510|\n",
      "|LIDO STAKED ETHER |    $2,494|\n",
      "|            MAKER |$1,989.00 |\n",
      "|     BINANCE COIN |  $369.80 |\n",
      "|     BITCOIN CASH |  $280.70 |\n",
      "|           KUSAMA |  $156.10 |\n",
      "|           MONERO |  $142.30 |\n",
      "|              AAVE|  $142.10 |\n",
      "|            ELROND|  $135.68 |\n",
      "|         LITECOIN |  $104.80 |\n",
      "|           SOLANA |   $90.03 |\n",
      "|            QUANT |   $90.70 |\n",
      "|             DASH |   $89.40 |\n",
      "|             ZCASH|   $89.20 |\n",
      "|       BITCOIN SV |   $88.54 |\n",
      "|         AVALANCHE|   $64.98 |\n",
      "|     AXIE INFINITY|   $50.78 |\n",
      "+------------------+----------+\n",
      "only showing top 20 rows\n",
      "\n"
     ]
    }
   ],
   "source": [
    "df_pyspark.select(['Crypto name','price']).show()"
   ]
  },
  {
   "cell_type": "code",
   "execution_count": 20,
   "metadata": {},
   "outputs": [
    {
     "data": {
      "text/plain": [
       "[('Ranking', 'string'),\n",
       " ('Crypto Name', 'string'),\n",
       " ('Price', 'string'),\n",
       " ('Changes 24H ', 'string'),\n",
       " ('Changes 7D ', 'string'),\n",
       " ('Changes 30D ', 'string'),\n",
       " ('Changes 1Y', 'string'),\n",
       " ('Market Cap', 'string'),\n",
       " ('Volume 24H', 'string'),\n",
       " ('Available Supply', 'string')]"
      ]
     },
     "execution_count": 20,
     "metadata": {},
     "output_type": "execute_result"
    }
   ],
   "source": [
    "df_pyspark.dtypes"
   ]
  },
  {
   "cell_type": "code",
   "execution_count": 21,
   "metadata": {},
   "outputs": [
    {
     "name": "stdout",
     "output_type": "stream",
     "text": [
      "+-------+------------------+-----------+------+------------+-----------+------------+----------+----------+------------+----------------+\n",
      "|summary|           Ranking|Crypto Name| Price|Changes 24H |Changes 7D |Changes 30D |Changes 1Y|Market Cap|  Volume 24H|Available Supply|\n",
      "+-------+------------------+-----------+------+------------+-----------+------------+----------+----------+------------+----------------+\n",
      "|  count|               102|        102|   100|         100|        100|         100|       100|       100|         100|              98|\n",
      "|   mean|              50.5|       null|  null|        null|       null|        null|      null|      null|        null|            null|\n",
      "| stddev|29.011491975882016|       null|  null|        null|       null|        null|      null|      null|        null|            null|\n",
      "|    min|          $3.17 M\"|          \"|$0.00 |      $0.00 |     -0.03%|      -0.07%|  $17.59 B|   $1.03 B|           \"|    1.00 B THETA|\n",
      "|    max|         FILECOIN\"|      ZCASH|-6.61%|       6.51%|      9.75%|       9.77%|  9999.99%|   156.78%|155.20 M FIL|             N/A|\n",
      "+-------+------------------+-----------+------+------------+-----------+------------+----------+----------+------------+----------------+\n",
      "\n"
     ]
    }
   ],
   "source": [
    "df_pyspark.describe().show()"
   ]
  },
  {
   "cell_type": "code",
   "execution_count": 23,
   "metadata": {},
   "outputs": [],
   "source": [
    "### menambahkan Kolom di data frame\n",
    "df_pyspark=df_pyspark.withColumn('Harga hari ini', df_pyspark['Price']+1000)"
   ]
  },
  {
   "cell_type": "code",
   "execution_count": 24,
   "metadata": {},
   "outputs": [
    {
     "name": "stdout",
     "output_type": "stream",
     "text": [
      "+-------+------------------+----------+------------+-----------+------------+----------+----------+----------+----------------+--------------+\n",
      "|Ranking|       Crypto Name|     Price|Changes 24H |Changes 7D |Changes 30D |Changes 1Y|Market Cap|Volume 24H|Available Supply|Harga hari ini|\n",
      "+-------+------------------+----------+------------+-----------+------------+----------+----------+----------+----------------+--------------+\n",
      "|      1|           BITCOIN|   $36,983|      -2.97%|      1.96%|     -20.08%|     8.25%| $701.49 B|  $13.01 B|     18.94 M BTC|          null|\n",
      "|      2|   WRAPPED BITCOIN|   $37,019|      -2.84%|      1.84%|     -20.13%|     8.26%|  $10.04 B| $253.14 M|   271.16 K WBTC|          null|\n",
      "|      3|        HUOBI BTC |   $36,942|      -4.24%|      1.37%|     -20.39%|     7.82%|   $1.47 B|  $29.51 M|    39.88 K HBTC|          null|\n",
      "|      4|          ETHEREUM|    $2,510|      -3.64%|     -1.28%|     -32.04%|    82.54%| $298.87 B|  $10.00 B|    119.38 M ETH|          null|\n",
      "|      5|LIDO STAKED ETHER |    $2,494|      -3.23%|     -1.84%|     -31.98%|    95.88%|   $4.48 B|   $2.07 M|    1.79 M STETH|          null|\n",
      "|      6|            MAKER |$1,989.00 |       1.58%|      7.24%|     -15.86%|    24.94%|   $1.78 B|  $49.99 M|    901.31 K MKR|          null|\n",
      "|      7|     BINANCE COIN |  $369.80 |      -3.80%|     -3.37%|     -27.62%|   730.32%|  $62.31 B|   $1.05 B|    168.14 M BNB|          null|\n",
      "|      8|     BITCOIN CASH |  $280.70 |      -5.84%|     -6.89%|     -34.79%|   -31.87%|   $5.34 B|   $1.13 B|     18.97 M BCH|          null|\n",
      "|      9|           KUSAMA |  $156.10 |      -8.71%|    -18.40%|     -43.80%|    54.92%|   $1.40 B|  $39.97 M|      8.98 M KSM|          null|\n",
      "|     10|           MONERO |  $142.30 |      -7.48%|     -8.30%|     -37.46%|     3.07%|   $2.59 B|  $85.93 M|     18.07 M XMR|          null|\n",
      "|     11|              AAVE|  $142.10 |      -7.08%|     -9.67%|     -44.01%|   -54.25%|   $1.93 B|  $92.85 M|    13.49 M AAVE|          null|\n",
      "|     12|            ELROND|  $135.68 |      -8.85%|      1.32%|     -43.15%|   110.34%|   $2.78 B|  $96.17 M|    20.47 M EGLD|          null|\n",
      "|     13|         LITECOIN |  $104.80 |      -5.42%|     -6.02%|     -28.25%|    20.90%|   $7.31 B| $474.05 M|     69.53 M LTC|          null|\n",
      "|     14|           SOLANA |   $90.03 |      -6.35%|     -9.63%|     -47.06%|  2028.16%|  $28.43 B|  $975.64 |    315.10 M SOL|          null|\n",
      "|     15|            QUANT |   $90.70 |      -8.20%|    -18.19%|     -50.04%|   189.81%|   $1.20 B|  $24.08 M|     13.41 M QNT|          null|\n",
      "|     16|             DASH |   $89.40 |      -8.21%|    -10.15%|      33.44%|   -14.46%| $942.19 M| $102.53 M|    10.56 M DASH|          null|\n",
      "|     17|             ZCASH|   $89.20 |      -7.95%|     -8.40%|     -39.11%|     6.10%|   $1.08 B| $108.34 M|     12.07 M ZEC|          null|\n",
      "|     18|       BITCOIN SV |   $88.54 |      -3.92%|     -5.40%|     -26.97%|    50.37%|   $1.68 B|  $54.54 M|     18.97 M BSV|          null|\n",
      "|     19|         AVALANCHE|   $64.98 |      -9.00%|      0.38%|     -40.72%|   443.28%|  $15.94 B| $542.89 M|   244.91 M AVAX|          null|\n",
      "|     20|     AXIE INFINITY|   $50.78 |      -3.26%|     -6.54%|     -45.91%|  5924.29%|   $3.60 B| $713.82 M|     71.05 M AXS|          null|\n",
      "+-------+------------------+----------+------------+-----------+------------+----------+----------+----------+----------------+--------------+\n",
      "only showing top 20 rows\n",
      "\n"
     ]
    }
   ],
   "source": [
    "df_pyspark.show()"
   ]
  },
  {
   "cell_type": "code",
   "execution_count": 25,
   "metadata": {},
   "outputs": [
    {
     "name": "stdout",
     "output_type": "stream",
     "text": [
      "+-------+------------------+----------+------------+-----------+------------+----------+----------+----------+----------------+\n",
      "|Ranking|       Crypto Name|     Price|Changes 24H |Changes 7D |Changes 30D |Changes 1Y|Market Cap|Volume 24H|Available Supply|\n",
      "+-------+------------------+----------+------------+-----------+------------+----------+----------+----------+----------------+\n",
      "|      1|           BITCOIN|   $36,983|      -2.97%|      1.96%|     -20.08%|     8.25%| $701.49 B|  $13.01 B|     18.94 M BTC|\n",
      "|      2|   WRAPPED BITCOIN|   $37,019|      -2.84%|      1.84%|     -20.13%|     8.26%|  $10.04 B| $253.14 M|   271.16 K WBTC|\n",
      "|      3|        HUOBI BTC |   $36,942|      -4.24%|      1.37%|     -20.39%|     7.82%|   $1.47 B|  $29.51 M|    39.88 K HBTC|\n",
      "|      4|          ETHEREUM|    $2,510|      -3.64%|     -1.28%|     -32.04%|    82.54%| $298.87 B|  $10.00 B|    119.38 M ETH|\n",
      "|      5|LIDO STAKED ETHER |    $2,494|      -3.23%|     -1.84%|     -31.98%|    95.88%|   $4.48 B|   $2.07 M|    1.79 M STETH|\n",
      "|      6|            MAKER |$1,989.00 |       1.58%|      7.24%|     -15.86%|    24.94%|   $1.78 B|  $49.99 M|    901.31 K MKR|\n",
      "|      7|     BINANCE COIN |  $369.80 |      -3.80%|     -3.37%|     -27.62%|   730.32%|  $62.31 B|   $1.05 B|    168.14 M BNB|\n",
      "|      8|     BITCOIN CASH |  $280.70 |      -5.84%|     -6.89%|     -34.79%|   -31.87%|   $5.34 B|   $1.13 B|     18.97 M BCH|\n",
      "|      9|           KUSAMA |  $156.10 |      -8.71%|    -18.40%|     -43.80%|    54.92%|   $1.40 B|  $39.97 M|      8.98 M KSM|\n",
      "|     10|           MONERO |  $142.30 |      -7.48%|     -8.30%|     -37.46%|     3.07%|   $2.59 B|  $85.93 M|     18.07 M XMR|\n",
      "|     11|              AAVE|  $142.10 |      -7.08%|     -9.67%|     -44.01%|   -54.25%|   $1.93 B|  $92.85 M|    13.49 M AAVE|\n",
      "|     12|            ELROND|  $135.68 |      -8.85%|      1.32%|     -43.15%|   110.34%|   $2.78 B|  $96.17 M|    20.47 M EGLD|\n",
      "|     13|         LITECOIN |  $104.80 |      -5.42%|     -6.02%|     -28.25%|    20.90%|   $7.31 B| $474.05 M|     69.53 M LTC|\n",
      "|     14|           SOLANA |   $90.03 |      -6.35%|     -9.63%|     -47.06%|  2028.16%|  $28.43 B|  $975.64 |    315.10 M SOL|\n",
      "|     15|            QUANT |   $90.70 |      -8.20%|    -18.19%|     -50.04%|   189.81%|   $1.20 B|  $24.08 M|     13.41 M QNT|\n",
      "|     16|             DASH |   $89.40 |      -8.21%|    -10.15%|      33.44%|   -14.46%| $942.19 M| $102.53 M|    10.56 M DASH|\n",
      "|     17|             ZCASH|   $89.20 |      -7.95%|     -8.40%|     -39.11%|     6.10%|   $1.08 B| $108.34 M|     12.07 M ZEC|\n",
      "|     18|       BITCOIN SV |   $88.54 |      -3.92%|     -5.40%|     -26.97%|    50.37%|   $1.68 B|  $54.54 M|     18.97 M BSV|\n",
      "|     19|         AVALANCHE|   $64.98 |      -9.00%|      0.38%|     -40.72%|   443.28%|  $15.94 B| $542.89 M|   244.91 M AVAX|\n",
      "|     20|     AXIE INFINITY|   $50.78 |      -3.26%|     -6.54%|     -45.91%|  5924.29%|   $3.60 B| $713.82 M|     71.05 M AXS|\n",
      "+-------+------------------+----------+------------+-----------+------------+----------+----------+----------+----------------+\n",
      "only showing top 20 rows\n",
      "\n"
     ]
    }
   ],
   "source": [
    "### Menghapus kolom\n",
    "df_pyspark=df_pyspark.drop('Harga hari ini')\n",
    "df_pyspark.show()"
   ]
  },
  {
   "cell_type": "code",
   "execution_count": 27,
   "metadata": {},
   "outputs": [
    {
     "name": "stdout",
     "output_type": "stream",
     "text": [
      "+-------+------------------+----------+------------+-----------+------------+----------+----------+----------+----------------+\n",
      "|Ranking|      Crypto Brand|     Price|Changes 24H |Changes 7D |Changes 30D |Changes 1Y|Market Cap|Volume 24H|Available Supply|\n",
      "+-------+------------------+----------+------------+-----------+------------+----------+----------+----------+----------------+\n",
      "|      1|           BITCOIN|   $36,983|      -2.97%|      1.96%|     -20.08%|     8.25%| $701.49 B|  $13.01 B|     18.94 M BTC|\n",
      "|      2|   WRAPPED BITCOIN|   $37,019|      -2.84%|      1.84%|     -20.13%|     8.26%|  $10.04 B| $253.14 M|   271.16 K WBTC|\n",
      "|      3|        HUOBI BTC |   $36,942|      -4.24%|      1.37%|     -20.39%|     7.82%|   $1.47 B|  $29.51 M|    39.88 K HBTC|\n",
      "|      4|          ETHEREUM|    $2,510|      -3.64%|     -1.28%|     -32.04%|    82.54%| $298.87 B|  $10.00 B|    119.38 M ETH|\n",
      "|      5|LIDO STAKED ETHER |    $2,494|      -3.23%|     -1.84%|     -31.98%|    95.88%|   $4.48 B|   $2.07 M|    1.79 M STETH|\n",
      "|      6|            MAKER |$1,989.00 |       1.58%|      7.24%|     -15.86%|    24.94%|   $1.78 B|  $49.99 M|    901.31 K MKR|\n",
      "|      7|     BINANCE COIN |  $369.80 |      -3.80%|     -3.37%|     -27.62%|   730.32%|  $62.31 B|   $1.05 B|    168.14 M BNB|\n",
      "|      8|     BITCOIN CASH |  $280.70 |      -5.84%|     -6.89%|     -34.79%|   -31.87%|   $5.34 B|   $1.13 B|     18.97 M BCH|\n",
      "|      9|           KUSAMA |  $156.10 |      -8.71%|    -18.40%|     -43.80%|    54.92%|   $1.40 B|  $39.97 M|      8.98 M KSM|\n",
      "|     10|           MONERO |  $142.30 |      -7.48%|     -8.30%|     -37.46%|     3.07%|   $2.59 B|  $85.93 M|     18.07 M XMR|\n",
      "|     11|              AAVE|  $142.10 |      -7.08%|     -9.67%|     -44.01%|   -54.25%|   $1.93 B|  $92.85 M|    13.49 M AAVE|\n",
      "|     12|            ELROND|  $135.68 |      -8.85%|      1.32%|     -43.15%|   110.34%|   $2.78 B|  $96.17 M|    20.47 M EGLD|\n",
      "|     13|         LITECOIN |  $104.80 |      -5.42%|     -6.02%|     -28.25%|    20.90%|   $7.31 B| $474.05 M|     69.53 M LTC|\n",
      "|     14|           SOLANA |   $90.03 |      -6.35%|     -9.63%|     -47.06%|  2028.16%|  $28.43 B|  $975.64 |    315.10 M SOL|\n",
      "|     15|            QUANT |   $90.70 |      -8.20%|    -18.19%|     -50.04%|   189.81%|   $1.20 B|  $24.08 M|     13.41 M QNT|\n",
      "|     16|             DASH |   $89.40 |      -8.21%|    -10.15%|      33.44%|   -14.46%| $942.19 M| $102.53 M|    10.56 M DASH|\n",
      "|     17|             ZCASH|   $89.20 |      -7.95%|     -8.40%|     -39.11%|     6.10%|   $1.08 B| $108.34 M|     12.07 M ZEC|\n",
      "|     18|       BITCOIN SV |   $88.54 |      -3.92%|     -5.40%|     -26.97%|    50.37%|   $1.68 B|  $54.54 M|     18.97 M BSV|\n",
      "|     19|         AVALANCHE|   $64.98 |      -9.00%|      0.38%|     -40.72%|   443.28%|  $15.94 B| $542.89 M|   244.91 M AVAX|\n",
      "|     20|     AXIE INFINITY|   $50.78 |      -3.26%|     -6.54%|     -45.91%|  5924.29%|   $3.60 B| $713.82 M|     71.05 M AXS|\n",
      "+-------+------------------+----------+------------+-----------+------------+----------+----------+----------+----------------+\n",
      "only showing top 20 rows\n",
      "\n"
     ]
    }
   ],
   "source": [
    "### Mengubah nama kolom\n",
    "df_pyspark.withColumnRenamed('Crypto Name', 'Crypto Brand').show()"
   ]
  }
 ],
 "metadata": {
  "kernelspec": {
   "display_name": "Python 3",
   "language": "python",
   "name": "python3"
  },
  "language_info": {
   "codemirror_mode": {
    "name": "ipython",
    "version": 3
   },
   "file_extension": ".py",
   "mimetype": "text/x-python",
   "name": "python",
   "nbconvert_exporter": "python",
   "pygments_lexer": "ipython3",
   "version": "3.8.5"
  }
 },
 "nbformat": 4,
 "nbformat_minor": 4
}
